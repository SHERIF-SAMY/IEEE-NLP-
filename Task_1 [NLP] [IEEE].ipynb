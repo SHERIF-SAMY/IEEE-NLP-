{
  "cells": [
    {
      "cell_type": "code",
      "execution_count": 81,
      "metadata": {
        "id": "86bmUKWO7pXa"
      },
      "outputs": [],
      "source": [
        "import spacy\n",
        "import re\n",
        "from spacy.lang.en import English\n",
        "from spacy.lang.ar import Arabic"
      ]
    },
    {
      "cell_type": "code",
      "execution_count": 82,
      "metadata": {
        "id": "4tvO9I5_75g7"
      },
      "outputs": [],
      "source": [
        "nlp_en = spacy.load(\"en_core_web_sm\")\n",
        "nlp_ar = spacy.blank(\"ar\")"
      ]
    },
    {
      "cell_type": "code",
      "execution_count": 83,
      "metadata": {
        "id": "qBAxb6AG83AR"
      },
      "outputs": [],
      "source": [
        "ar_text = \"في قلب المدينة المزدحمة، وقف مكتبة رائعة قديمة مليئة بالكتب التي تروي قصص الحضارات القديمة واكتشافات علمية مذهلة وحكايات ملهمة ألهمت أجيالًا.\"\n",
        "eng_text = \"In the heart of the bustling city, there stood a magnificent old library, filled with books that told stories of ancient civilizations, groundbreaking scientific discoveries, and tales of wonder that inspired generations.\""
      ]
    },
    {
      "cell_type": "markdown",
      "metadata": {
        "id": "cWRwcjhw-Auy"
      },
      "source": [
        "# 1- Tokenization"
      ]
    },
    {
      "cell_type": "code",
      "execution_count": 84,
      "metadata": {
        "colab": {
          "base_uri": "https://localhost:8080/"
        },
        "id": "6qFR60Jq9Kb1",
        "outputId": "4767b261-937f-4b09-c729-af9ff52f482b"
      },
      "outputs": [
        {
          "name": "stdout",
          "output_type": "stream",
          "text": [
            "['In', 'the', 'heart', 'of', 'the', 'bustling', 'city,', 'there', 'stood', 'a', 'magnificent', 'old', 'library,', 'filled', 'with', 'books', 'that', 'told', 'stories', 'of', 'ancient', 'civilizations,', 'groundbreaking', 'scientific', 'discoveries,', 'and', 'tales', 'of', 'wonder', 'that', 'inspired', 'generations.']\n",
            "['في', 'قلب', 'المدينة', 'المزدحمة،', 'وقف', 'مكتبة', 'رائعة', 'قديمة', 'مليئة', 'بالكتب', 'التي', 'تروي', 'قصص', 'الحضارات', 'القديمة', 'واكتشافات', 'علمية', 'مذهلة', 'وحكايات', 'ملهمة', 'ألهمت', 'أجيالًا.']\n"
          ]
        }
      ],
      "source": [
        "# Tokenization using split\n",
        "eng_text = eng_text.split()\n",
        "\n",
        "# Tokenization using split\n",
        "ar_text = ar_text.split()\n",
        "\n",
        "print(eng_text)\n",
        "print(ar_text)"
      ]
    },
    {
      "cell_type": "markdown",
      "metadata": {
        "id": "SplneipVKxEF"
      },
      "source": [
        "# 2- convert to lowercase"
      ]
    },
    {
      "cell_type": "code",
      "execution_count": 85,
      "metadata": {
        "colab": {
          "base_uri": "https://localhost:8080/"
        },
        "id": "waFcMRBh-e0b",
        "outputId": "29a51e40-df2f-4082-8953-e94e3500471c"
      },
      "outputs": [
        {
          "data": {
            "text/plain": [
              "['in',\n",
              " 'the',\n",
              " 'heart',\n",
              " 'of',\n",
              " 'the',\n",
              " 'bustling',\n",
              " 'city,',\n",
              " 'there',\n",
              " 'stood',\n",
              " 'a',\n",
              " 'magnificent',\n",
              " 'old',\n",
              " 'library,',\n",
              " 'filled',\n",
              " 'with',\n",
              " 'books',\n",
              " 'that',\n",
              " 'told',\n",
              " 'stories',\n",
              " 'of',\n",
              " 'ancient',\n",
              " 'civilizations,',\n",
              " 'groundbreaking',\n",
              " 'scientific',\n",
              " 'discoveries,',\n",
              " 'and',\n",
              " 'tales',\n",
              " 'of',\n",
              " 'wonder',\n",
              " 'that',\n",
              " 'inspired',\n",
              " 'generations.']"
            ]
          },
          "execution_count": 85,
          "metadata": {},
          "output_type": "execute_result"
        }
      ],
      "source": [
        "# make it lower\n",
        "eng_text = [i.lower() for i in eng_text]\n",
        "eng_text"
      ]
    },
    {
      "cell_type": "markdown",
      "metadata": {
        "id": "dem4V_f8K5ef"
      },
      "source": [
        "# 3- Remove StopWords"
      ]
    },
    {
      "cell_type": "code",
      "execution_count": 86,
      "metadata": {
        "colab": {
          "base_uri": "https://localhost:8080/"
        },
        "id": "04Tn-Pic_L5i",
        "outputId": "59fcd94c-0d5c-4a29-c46e-610f9287c6c4"
      },
      "outputs": [
        {
          "name": "stdout",
          "output_type": "stream",
          "text": [
            "['heart', 'bustling', 'city', ',', 'stood', 'magnificent', 'old', 'library', ',', 'filled', 'books', 'told', 'stories', 'ancient', 'civilizations', ',', 'groundbreaking', 'scientific', 'discoveries', ',', 'tales', 'wonder', 'inspired', 'generations', '.']\n",
            "['قلب', 'المدينة', 'المزدحمة', '،', 'وقف', 'مكتبة', 'رائعة', 'قديمة', 'مليئة', 'بالكتب', 'تروي', 'قصص', 'الحضارات', 'القديمة', 'واكتشافات', 'علمية', 'مذهلة', 'وحكايات', 'ملهمة', 'ألهمت', 'أجيالًا.']\n"
          ]
        }
      ],
      "source": [
        "# remove stopwords using nltk\n",
        "\n",
        "# import nltk\n",
        "# nltk.download('stopwords')\n",
        "# from nltk.corpus import stopwords\n",
        "\n",
        "# stopwords = stopwords.words('english')\n",
        "# stopwords = stopwords.words()\n",
        "# eng_text_nostopwords = [i for i in eng_text if not i in stopwords]\n",
        "# eng_text_nostopwords\n",
        "############################################################################\n",
        "# remove stopwords using spacy\n",
        "nlp_en = spacy.load(\"en_core_web_sm\")\n",
        "nlp_ar = spacy.blank(\"ar\")\n",
        "\n",
        "doc = nlp_en(\" \".join(eng_text))\n",
        "eng_text = [token.text for token in doc if not token.is_stop]\n",
        "\n",
        "print(eng_text)\n",
        "#---------------------------------------------------------------------------\n",
        "doc = nlp_ar(\" \".join(ar_text))\n",
        "ar_text = [token.text for token in doc if not token.is_stop]\n",
        "\n",
        "print(ar_text)"
      ]
    },
    {
      "cell_type": "markdown",
      "metadata": {
        "id": "H7ipts1NLDD_"
      },
      "source": [
        "# 4- Noise Removal"
      ]
    },
    {
      "cell_type": "code",
      "execution_count": 87,
      "metadata": {
        "colab": {
          "base_uri": "https://localhost:8080/"
        },
        "id": "DQjOA__ZBfxU",
        "outputId": "9938be1c-7bd2-434a-d956-ea412c32c732"
      },
      "outputs": [
        {
          "name": "stdout",
          "output_type": "stream",
          "text": [
            "['heart', 'bustling', 'city', '', 'stood', 'magnificent', 'old', 'library', '', 'filled', 'books', 'told', 'stories', 'ancient', 'civilizations', '', 'groundbreaking', 'scientific', 'discoveries', '', 'tales', 'wonder', 'inspired', 'generations', '']\n",
            "['قلب', 'المدينة', 'المزدحمة', '،', 'وقف', 'مكتبة', 'رائعة', 'قديمة', 'مليئة', 'بالكتب', 'تروي', 'قصص', 'الحضارات', 'القديمة', 'واكتشافات', 'علمية', 'مذهلة', 'وحكايات', 'ملهمة', 'ألهمت', 'أجيالًا']\n"
          ]
        }
      ],
      "source": [
        "# Noise Removal for English\n",
        "eng_text = [re.sub(r'[^\\w\\s]','', token) for token in eng_text if token.strip()]\n",
        "print(eng_text)\n",
        "# Noise Removal for Arabic\n",
        "ar_text = [re.sub(r'[^\\u0600-\\u06FF\\s]', '', token) for token in ar_text if token.strip()]\n",
        "print(ar_text)"
      ]
    },
    {
      "cell_type": "markdown",
      "metadata": {
        "id": "94AYkY8OLKH6"
      },
      "source": [
        "# 5- POS Tagging"
      ]
    },
    {
      "cell_type": "code",
      "execution_count": 88,
      "metadata": {
        "colab": {
          "base_uri": "https://localhost:8080/"
        },
        "id": "F1994guHLcz3",
        "outputId": "feb0bef5-d9c0-461a-c2e0-2bdfc5af0347"
      },
      "outputs": [
        {
          "name": "stdout",
          "output_type": "stream",
          "text": [
            "heart NOUN\n",
            "bustling VERB\n",
            "city NOUN\n",
            "  SPACE\n",
            "stood VERB\n",
            "magnificent ADJ\n",
            "old ADJ\n",
            "library NOUN\n",
            "  SPACE\n",
            "filled VERB\n",
            "books NOUN\n",
            "told VERB\n",
            "stories NOUN\n",
            "ancient ADJ\n",
            "civilizations NOUN\n",
            "  SPACE\n",
            "groundbreaking VERB\n",
            "scientific ADJ\n",
            "discoveries NOUN\n",
            "  SPACE\n",
            "tales NOUN\n",
            "wonder VERB\n",
            "inspired VERB\n",
            "generations NOUN\n"
          ]
        }
      ],
      "source": [
        "eng_text = ' '.join(eng_text)\n",
        "\n",
        "# POS tagging\n",
        "doc = nlp_en(eng_text)  # Apply SpaCy NLP model\n",
        "for i in doc:\n",
        "    print(i.text, i.pos_)\n"
      ]
    },
    {
      "cell_type": "code",
      "execution_count": 88,
      "metadata": {
        "id": "JkLDeogBG8TB"
      },
      "outputs": [],
      "source": []
    },
    {
      "cell_type": "code",
      "execution_count": 88,
      "metadata": {
        "id": "_KXTL1XaJ0Xc"
      },
      "outputs": [],
      "source": []
    }
  ],
  "metadata": {
    "colab": {
      "provenance": []
    },
    "kernelspec": {
      "display_name": "Python 3",
      "name": "python3"
    },
    "language_info": {
      "name": "python"
    }
  },
  "nbformat": 4,
  "nbformat_minor": 0
}
